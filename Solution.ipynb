{
 "cells": [
  {
   "cell_type": "code",
   "execution_count": 49,
   "metadata": {},
   "outputs": [],
   "source": [
    "from math import sin,cos,acos, pi, atan2\n",
    "from numpy import linalg\n",
    "import numpy as np\n",
    "import matplotlib.pyplot as plt\n",
    "\n",
    "class Simulator:\n",
    "    def __init__(self,l1,l2,l3):\n",
    "        self.l1 = l1\n",
    "        self.l2 = l2\n",
    "        self.l3 = l3\n",
    "        \n",
    "    def plot_robot(self,th1,th2,th3):\n",
    "        x1 = self.l1*cos(th1)\n",
    "        y1 = self.l1*sin(th1)\n",
    "        x2 = x1 + self.l2*cos(th1 + th2)\n",
    "        y2 = y1 + self.l2*sin(th1 + th2)\n",
    "        phi = th1 + th2 + th3\n",
    "        x3 = x2 + self.l3*cos(phi)\n",
    "        y3 = y2 + self.l3*sin(phi)\n",
    "        plt.plot([0,x1,x2,x3],[0,y1,y2,y3])\n",
    "        plt.show()\n",
    "        \n",
    "    def forward_kinematics(self,th1,th2,th3):\n",
    "        x1 = self.l1*cos(th1)\n",
    "        y1 = self.l1*sin(th1)\n",
    "        x2 = x1 + self.l2*cos(th1 + th2)\n",
    "        y2 = y1 + self.l2*sin(th1 + th2)\n",
    "        phi = th1 + th2 + th3\n",
    "        return [x2,y2,phi]\n",
    "\n",
    "    def inverse_kinematics(self,x,y,phi):\n",
    "        a = (x**2 + y**2)**0.5\n",
    "        b = self.l1\n",
    "        c = self.l2\n",
    "        cos_delta = (a**2 - b**2 - c**2)/(-2*b*c)\n",
    "        cos_gamma = (c**2 - a**2 - b**2)/(-2*a*b)\n",
    "        beta = atan2(y,x)\n",
    "        delta = acos(cos_delta)\n",
    "        gamma = acos(cos_gamma)\n",
    "        th2 = pi-delta\n",
    "        th1 = beta - gamma\n",
    "\n",
    "        #elbow-up\n",
    "        th1 += 2*gamma\n",
    "        th2 -= 2*th2\n",
    "        th3 = phi - th1 - th2\n",
    "\n",
    "        return [th1,th2,th3]\n",
    "\n",
    "    def trajectory_planning(self,initialTime,finalTime,initialPos,finalPos):\n",
    "        ti = initialTime\n",
    "        tf = finalTime\n",
    "        pi = initialPos\n",
    "        pf = finalPos\n",
    "        a = np.array([[1,ti,ti**2,ti**3,ti**4,ti**5],\\\n",
    "                      [1,tf,tf**2,tf**3,tf**4,tf**5],\\\n",
    "                      [0,1, 2*ti ,3*ti**2,4*ti**3,5*ti**4],\\\n",
    "                      [0,1, 2*tf ,3*tf**2,4*tf**3,5*tf**4],\\\n",
    "                      [0,0,2,6*ti,12*ti**2,20*ti**3],\\\n",
    "                      [0,0,2,6*tf,12*tf**2,20*tf**3]\\\n",
    "                     ])\n",
    "\n",
    "        b = np.array([pi,pf,0,0,0,0])\n",
    "\n",
    "        coefficients = linalg.solve(a,b)\n",
    "\n",
    "        return coefficients\n",
    "    \n",
    "    def trajectory_plots(self,initialTime,finalTime,initialPos,finalPos, numberTrajectPoints):\n",
    "        t1_coeff = self.trajectory_planning(initialTime,finalTime,initialPos[0],finalPos[0])\n",
    "        t2_coeff = self.trajectory_planning(initialTime,finalTime,initialPos[1],finalPos[1])\n",
    "        t3_coeff = self.trajectory_planning(initialTime,finalTime,initialPos[2],finalPos[2])\n",
    "        \n",
    "        X = np.arange(initialTime, finalTime, (finalTime-initialTime)/float(numberTrajectPoints))\n",
    "        y1 = []\n",
    "        y2 = []\n",
    "        y3 = []\n",
    "        for x in X:\n",
    "            y1.append(np.dot(t1_coeff,[1,x,x**2,x**3,x**4,x**5]))\n",
    "            y2.append(np.dot(t2_coeff,[1,x,x**2,x**3,x**4,x**5]))\n",
    "            y3.append(np.dot(t3_coeff,[1,x,x**2,x**3,x**4,x**5]))\n",
    "            \n",
    "        plt.plot(X, y1, label = \"th1\")\n",
    "        plt.plot(X, y2, label = \"th2\")\n",
    "        plt.plot(X, y3, label = \"th3\")\n",
    "        plt.xlabel('time')\n",
    "        plt.ylabel('theta')\n",
    "        plt.title('Joint angles as function of time ')\n",
    "        plt.legend()\n",
    "        plt.show()\n",
    "        \n",
    "        \n",
    "        \n",
    "\n",
    "\n",
    "\n"
   ]
  },
  {
   "cell_type": "code",
   "execution_count": 50,
   "metadata": {},
   "outputs": [
    {
     "data": {
      "image/png": "[encoded data removed]",
      "text/plain": [
       "<Figure size 432x288 with 1 Axes>"
      ]
     },
     "metadata": {
      "needs_background": "light"
     },
     "output_type": "display_data"
    },
    {
     "name": "stdout",
     "output_type": "stream",
     "text": [
      "[-0.6500000000000004, 0.7500000000000001, 3.141592653589793]\n"
     ]
    }
   ],
   "source": [
    "s = Simulator(0.75,0.65,0.25)\n",
    "coords = s.forward_kinematics(2.9989777240192126, -1.5707963267948961, 1.7134112563654766)\n",
    "s.plot_robot(2.9989777240192126, -1.5707963267948961, 1.7134112563654766)\n",
    "print(coords)"
   ]
  },
  {
   "cell_type": "code",
   "execution_count": 53,
   "metadata": {},
   "outputs": [
    {
     "data": {
      "image/png": "[encoded data removed]",
      "text/plain": [
       "<Figure size 432x288 with 1 Axes>"
      ]
     },
     "metadata": {
      "needs_background": "light"
     },
     "output_type": "display_data"
    },
    {
     "name": "stdout",
     "output_type": "stream",
     "text": [
      "[1.7084393490161145, -2.091436853729391, 3.5245901583030697]\n"
     ]
    }
   ],
   "source": [
    "inverse = s.inverse_kinematics(0.5,0.5,pi)\n",
    "s.plot_robot(*inverse)\n",
    "print(inverse)"
   ]
  },
  {
   "cell_type": "code",
   "execution_count": 46,
   "metadata": {},
   "outputs": [
    {
     "name": "stdout",
     "output_type": "stream",
     "text": [
      "[ 2.35619449e+00 -7.10542736e-16 -0.00000000e+00 -1.88495559e-01\n",
      "  5.65486678e-02 -4.52389342e-03]\n"
     ]
    }
   ],
   "source": [
    "t_coeff = s.trajectory_planning(0,5,0.75*pi,0)\n",
    "print(t_coeff)"
   ]
  },
  {
   "cell_type": "code",
   "execution_count": 47,
   "metadata": {},
   "outputs": [
    {
     "data": {
      "image/png": "[encoded data removed]",
      "text/plain": [
       "<Figure size 432x288 with 1 Axes>"
      ]
     },
     "metadata": {
      "needs_background": "light"
     },
     "output_type": "display_data"
    }
   ],
   "source": [
    "ti = 0\n",
    "tf = 5\n",
    "initialPos = [0.75*pi, -0.5*pi, -0.25*pi]\n",
    "finalPos = [0,0,0]\n",
    "points = 100\n",
    "s.trajectory_plots(ti,tf,initialPos,finalPos,points)"
   ]
  },
  {
   "cell_type": "markdown",
   "metadata": {},
   "source": [
    "# Questions\n",
    "\n",
    "## Q1: Ideal Dynamis\n",
    "\n",
    "Assuming everything is ideal (no backlash or loss due to friction), in this case we only need to take care of the accelerations at each time point. From physics we know:\n",
    "\n",
    "```Torque = I * a```\n",
    "\n",
    "where `I` is the moment of inertia and `a` is the angular acceleration.\n",
    "Taking into account gravity, we have:\n",
    "\n",
    "```Torque_applied + Torque_gravity = I*a```\n",
    "\n",
    "From this, we can determine what is the torque that we should apply:\n",
    "\n",
    "```Torque_applied = I*a - Torque_gravity```"
   ]
  },
  {
   "cell_type": "markdown",
   "metadata": {},
   "source": [
    "## Q2: Controller\n",
    "\n",
    "In the non-ideal case, we want our arm to be at the given points at the given times, despite disturbances due to backlash, friction and the effects of the other components' motion on the current joint. That is why we will use a PID controller that operates on the error between the current position and the desired position. The block diagram would look like this:\n",
    "\n",
    "\n",
    "![PID Controller](pid.png)\n",
    "\n",
    "\n",
    "To tune this controller, I would do a grid search on the `K_p`, `K_I`, and `K_d` values and perform empirical tests until I find a set of values that allows the controller to follow a trajectory smoothly with minimal error."
   ]
  },
  {
   "cell_type": "markdown",
   "metadata": {},
   "source": [
    "## Q3: Motion Planning\n",
    "\n",
    "Most of the time, the robot needs to come up with a new trajectory in the middle of a task, meaning the initial velocity and acceleration are not 0.\n",
    "More over, depending on the task, the final velocity and acceleration aren't always 0 either. \n",
    "If you look in the `trajectory_planning` function, the vector `b` is a vector of `[initialPosition,finalPosition,initialVelocity, finalVelocity, initialAcceleration, finalAcceleration]`.\n",
    "So, if we want to compute trajectories that dont begin and end at rest, we would pass the initial and final velocities and acceleration to the `trajectory_planning` function\n",
    "and modify the `b` vector accordingly."
   ]
  },
  {
   "cell_type": "code",
   "execution_count": null,
   "metadata": {},
   "outputs": [],
   "source": []
  }
 ],
 "metadata": {
  "kernelspec": {
   "display_name": "Python 3",
   "language": "python",
   "name": "python3"
  },
  "language_info": {
   "codemirror_mode": {
    "name": "ipython",
    "version": 3
   },
   "file_extension": ".py",
   "mimetype": "text/x-python",
   "name": "python",
   "nbconvert_exporter": "python",
   "pygments_lexer": "ipython3",
   "version": "3.7.4"
  }
 },
 "nbformat": 4,
 "nbformat_minor": 2
}
